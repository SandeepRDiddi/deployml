{
 "cells": [
  {
   "cell_type": "code",
   "execution_count": 1,
   "metadata": {},
   "outputs": [],
   "source": [
    "#Flask is a micro service web based frame work and it allows to expose the business logic to users \n",
    "\n",
    "#Flask has a inbuilt funciton request which will take request from user and then processes it \n",
    "\n",
    "from flask import Flask,request"
   ]
  },
  {
   "cell_type": "code",
   "execution_count": null,
   "metadata": {},
   "outputs": [
    {
     "name": "stdout",
     "output_type": "stream",
     "text": [
      " * Serving Flask app \"__main__\" (lazy loading)\n",
      " * Environment: production\n",
      "   WARNING: Do not use the development server in a production environment.\n",
      "   Use a production WSGI server instead.\n",
      " * Debug mode: off\n"
     ]
    },
    {
     "name": "stderr",
     "output_type": "stream",
     "text": [
      " * Running on http://127.0.0.1:5000/ (Press CTRL+C to quit)\n",
      "127.0.0.1 - - [21/Jan/2019 15:01:27] \"POST /?a=10&b=20 HTTP/1.1\" 400 -\n"
     ]
    }
   ],
   "source": [
    "#Flask has a inbuilt funciton request which will take request from user and then processes it \n",
    "\n",
    "#from flask import Flask,request\n",
    "\n",
    "#Initiliaze the first flas APP \n",
    "\n",
    "app = Flask(__name__)\n",
    "\n",
    "#wrap the flask function \n",
    "\n",
    "#most of the real world studies dosent allowyou to pass arguments on the web due to data secutiry\n",
    "#In such cases we use POST method in Flask , GET is by default supported and hence we call GET AND POST in app.route like below \n",
    "#All browsers by default take GET methods and to make post methods we need postman from https://www.getpostman.com/downloads/\n",
    "#Using this we can make post requests\n",
    "#Create a new request and save it to postman eco some foder \n",
    "#and from GET Drop down choose POST and then pass the following values \n",
    "#http://127.0.0.1:5000?a=10&b=20 and this will give the result \n",
    "@app.route('/',methods=['POST'])\n",
    "def add():\n",
    "    #a=request.args.get(\"a\") -- This is GET\n",
    "    a=request.form['a'] #THis is post \n",
    "    #b=request.args.get(\"b\")\n",
    "    b=request.form['b'] #For post \n",
    "    return str( int(a) + int(b) )\n",
    "\n",
    "#Since we took off the get parameters the postman will fail and hence we need to declare values in body of postman\n",
    "\n",
    "#Insted of GET lets use POST in the code \n",
    "#Main program \n",
    "\n",
    "if __name__=='__main__':\n",
    "    app.run()\n",
    "    \n",
    "#If we need to chnage the port number then we simply need to put that in app.run() something link this app.run(7000) \n",
    "#Now the webserver will start on 7000 port "
   ]
  },
  {
   "cell_type": "code",
   "execution_count": null,
   "metadata": {},
   "outputs": [],
   "source": []
  }
 ],
 "metadata": {
  "kernelspec": {
   "display_name": "Python 3",
   "language": "python",
   "name": "python3"
  },
  "language_info": {
   "codemirror_mode": {
    "name": "ipython",
    "version": 3
   },
   "file_extension": ".py",
   "mimetype": "text/x-python",
   "name": "python",
   "nbconvert_exporter": "python",
   "pygments_lexer": "ipython3",
   "version": "3.7.0"
  }
 },
 "nbformat": 4,
 "nbformat_minor": 2
}
