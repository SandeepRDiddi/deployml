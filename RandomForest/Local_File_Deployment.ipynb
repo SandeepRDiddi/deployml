{
 "cells": [
  {
   "cell_type": "code",
   "execution_count": null,
   "metadata": {},
   "outputs": [
    {
     "name": "stdout",
     "output_type": "stream",
     "text": [
      " * Serving Flask app \"__main__\" (lazy loading)\n",
      " * Environment: production\n",
      "   WARNING: Do not use the development server in a production environment.\n",
      "   Use a production WSGI server instead.\n",
      " * Debug mode: off\n"
     ]
    },
    {
     "name": "stderr",
     "output_type": "stream",
     "text": [
      "C:\\Users\\sdiddi\\AppData\\Local\\Continuum\\anaconda3\\lib\\site-packages\\sklearn\\ensemble\\weight_boosting.py:29: DeprecationWarning: numpy.core.umath_tests is an internal NumPy module and should not be imported. It will be removed in a future NumPy release.\n",
      "  from numpy.core.umath_tests import inner1d\n",
      " * Running on http://127.0.0.1:5000/ (Press CTRL+C to quit)\n",
      "127.0.0.1 - - [21/Jan/2019 16:28:52] \"POST /predict_file HTTP/1.1\" 404 -\n",
      "127.0.0.1 - - [21/Jan/2019 16:30:11] \"POST /%20predicct_file HTTP/1.1\" 404 -\n",
      "127.0.0.1 - - [21/Jan/2019 16:30:38] \"GET /predict?s_length=4.4&s_width=5.5&p_length=3.4&p_width=4.4 HTTP/1.1\" 200 -\n",
      "127.0.0.1 - - [21/Jan/2019 16:31:09] \"POST /predict_file HTTP/1.1\" 404 -\n"
     ]
    }
   ],
   "source": [
    "import pickle\n",
    "from flask import Flask, request\n",
    "from flasgger import Swagger #This is to get auto generating API documentation\n",
    "import numpy as np\n",
    "import pandas as pd\n",
    "\n",
    "#Open the pickle file from the saved model as a read binary\n",
    "\n",
    "\n",
    "with open('C:\\\\Users\\\\sdiddi\\\\Documents\\\\deployml\\\\rf.pkl', 'rb') as model_file:\n",
    "    model = pickle.load(model_file)\n",
    "    \n",
    "#lets get the app running for this model \n",
    "\n",
    "app = Flask(__name__)\n",
    "\n",
    "#This method to give values on the web \n",
    "@app.route('/predict')\n",
    "def predict_iris():\n",
    "    s_length=request.args.get(\"s_length\")\n",
    "    s_width=request.args.get(\"s_width\")\n",
    "    p_length=request.args.get(\"p_length\")\n",
    "    p_width=request.args.get(\"p_width\")\n",
    "    \n",
    "    prediction = model.predict(np.array([[s_length,s_width,p_length,p_width]]))\n",
    "    \n",
    "    return str(prediction)\n",
    "\n",
    "if __name__ == '__main__':\n",
    "    app.run()\n",
    "    \n",
    "    \n",
    "    \n",
    "#Method to give values  via a file \n",
    "\n",
    "@app.route('/predict_file',methods=[\"POST\"])\n",
    "def predict_iris_file():\n",
    "    input_data = pd.read_csv(request.files.get(\"input_file\"),header=None)\n",
    "    prediction = model.predict(input_data)\n",
    "    return str(list(prediction))\n",
    "\n",
    "if __name__ == '__main__':\n",
    "    app.run()\n",
    "    \n",
    "    \n",
    "#TO get the prediction we need to give the link something like below \n",
    "\n",
    "#http://localhost:5000/predict?s_length=4.4&s_width=5.5&p_length=3.4&p_width=4.4"
   ]
  },
  {
   "cell_type": "code",
   "execution_count": null,
   "metadata": {},
   "outputs": [],
   "source": []
  },
  {
   "cell_type": "code",
   "execution_count": null,
   "metadata": {},
   "outputs": [],
   "source": []
  }
 ],
 "metadata": {
  "kernelspec": {
   "display_name": "Python 3",
   "language": "python",
   "name": "python3"
  },
  "language_info": {
   "codemirror_mode": {
    "name": "ipython",
    "version": 3
   },
   "file_extension": ".py",
   "mimetype": "text/x-python",
   "name": "python",
   "nbconvert_exporter": "python",
   "pygments_lexer": "ipython3",
   "version": "3.7.0"
  }
 },
 "nbformat": 4,
 "nbformat_minor": 2
}
