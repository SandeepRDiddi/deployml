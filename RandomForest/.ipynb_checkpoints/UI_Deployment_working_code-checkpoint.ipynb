{
 "cells": [
  {
   "cell_type": "code",
   "execution_count": null,
   "metadata": {},
   "outputs": [
    {
     "name": "stdout",
     "output_type": "stream",
     "text": [
      " * Serving Flask app \"__main__\" (lazy loading)\n",
      " * Environment: production\n",
      "   WARNING: Do not use the development server in a production environment.\n",
      "   Use a production WSGI server instead.\n",
      " * Debug mode: off\n"
     ]
    },
    {
     "name": "stderr",
     "output_type": "stream",
     "text": [
      "C:\\Users\\sdiddi\\AppData\\Local\\Continuum\\anaconda3\\lib\\site-packages\\sklearn\\ensemble\\weight_boosting.py:29: DeprecationWarning: numpy.core.umath_tests is an internal NumPy module and should not be imported. It will be removed in a future NumPy release.\n",
      "  from numpy.core.umath_tests import inner1d\n",
      " * Running on http://127.0.0.1:5000/ (Press CTRL+C to quit)\n",
      "127.0.0.1 - - [21/Jan/2019 16:50:50] \"GET /apidocs/ HTTP/1.1\" 200 -\n",
      "127.0.0.1 - - [21/Jan/2019 16:50:51] \"GET /apispec_1.json HTTP/1.1\" 200 -\n",
      "127.0.0.1 - - [21/Jan/2019 16:51:07] \"GET /predict?s_length=4.2&s_width=5.3&p_length=3.2&p_width=0.5 HTTP/1.1\" 200 -\n"
     ]
    }
   ],
   "source": [
    "import pickle\n",
    "from flask import Flask, request\n",
    "from flasgger import Swagger #This is to get auto generating API documentation\n",
    "import numpy as np\n",
    "import pandas as pd\n",
    "\n",
    "with open('C:\\\\Users\\\\sdiddi\\\\Documents\\\\deployml\\\\rf.pkl', 'rb') as model_file:\n",
    "    model = pickle.load(model_file)\n",
    "\n",
    "app = Flask(__name__)\n",
    "swagger = Swagger(app)\n",
    "\n",
    "@app.route('/predict')\n",
    "def predict_iris():\n",
    "    \"\"\"Example endpoint returning a prediction of iris\n",
    "    ---\n",
    "    parameters:\n",
    "      - name: s_length\n",
    "        in: query\n",
    "        type: number\n",
    "        required: true\n",
    "      - name: s_width\n",
    "        in: query\n",
    "        type: number\n",
    "        required: true\n",
    "      - name: p_length\n",
    "        in: query\n",
    "        type: number\n",
    "        required: true\n",
    "      - name: p_width\n",
    "        in: query\n",
    "        type: number\n",
    "        required: true\n",
    "    responses:\n",
    "          200:\n",
    "            decription: OK\n",
    "    \"\"\"\n",
    "    s_length = request.args.get(\"s_length\")\n",
    "    s_width = request.args.get(\"s_width\")\n",
    "    p_length = request.args.get(\"p_length\")\n",
    "    p_width = request.args.get(\"p_width\")\n",
    "    \n",
    "    prediction = model.predict(np.array([[s_length, s_width, p_length, p_width]]))\n",
    "    return str(prediction)\n",
    "\n",
    "@app.route('/predict_file', methods=[\"POST\"])\n",
    "def predict_iris_file():\n",
    "    \"\"\"Example file endpoint returning a prediction of iris\n",
    "    ---\n",
    "    parameters:\n",
    "      - name: input_file\n",
    "        in: formData\n",
    "        type: file\n",
    "        required: true\n",
    "    responses:\n",
    "          200:\n",
    "            decription: OK\n",
    "    \"\"\"\n",
    "    input_data = pd.read_csv(request.files.get(\"input_file\"), header=None)\n",
    "    prediction = model.predict(input_data)\n",
    "    return str(list(prediction))\n",
    "if __name__ == '__main__':\n",
    "    app.run()"
   ]
  },
  {
   "cell_type": "code",
   "execution_count": null,
   "metadata": {},
   "outputs": [],
   "source": []
  }
 ],
 "metadata": {
  "kernelspec": {
   "display_name": "Python 3",
   "language": "python",
   "name": "python3"
  },
  "language_info": {
   "codemirror_mode": {
    "name": "ipython",
    "version": 3
   },
   "file_extension": ".py",
   "mimetype": "text/x-python",
   "name": "python",
   "nbconvert_exporter": "python",
   "pygments_lexer": "ipython3",
   "version": "3.7.0"
  }
 },
 "nbformat": 4,
 "nbformat_minor": 2
}
